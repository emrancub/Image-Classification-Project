{
 "cells": [
  {
   "cell_type": "code",
   "execution_count": 3,
   "metadata": {},
   "outputs": [],
   "source": [
    "# Imports\n",
    "import numpy as np\n",
    "import cv2\n",
    "import time\n",
    "\n",
    "# Read Image & Convert\n",
    "img = cv2.imread('113.jpg')\n",
    "result = cv2.cvtColor(img, cv2.COLOR_BGR2HSV)\n",
    "\n",
    "# Filtering\n",
    "lower = np.array([1,60,50])\n",
    "upper = np.array([255,255,255])\n",
    "result = cv2.inRange(result, lower, upper)\n",
    "kernel = cv2.getStructuringElement(cv2.MORPH_ELLIPSE,(9,9))\n",
    "result = cv2.dilate(result,kernel)\n",
    "\n",
    "# Contours\n",
    "#im2, contours, hierarchy = cv2.findContours(result.copy(), cv2.RETR_EXTERNAL, cv2.CHAIN_APPROX_SIMPLE)\n",
    "contours, hierarchy = cv2.findContours(result.copy(), cv2.RETR_TREE, cv2.CHAIN_APPROX_SIMPLE)\n",
    "result = cv2.cvtColor(result, cv2.COLOR_GRAY2BGR)\n",
    "if len(contours) != 0:\n",
    "    for (i, c) in enumerate(contours):\n",
    "        area = cv2.contourArea(c)\n",
    "        if area > 100000:\n",
    "            print(area)\n",
    "            cv2.drawContours(img, c, -1, (255,255,0), 12)\n",
    "            x,y,w,h = cv2.boundingRect(c)            \n",
    "            cv2.rectangle(img,(x,y),(x+w,y+h),(0,255,0),12)\n",
    "\n",
    "# Stack results\n",
    "result = np.vstack((result, img))\n",
    "resultOrig = result.copy()\n",
    "\n",
    "# Save image to file before resizing\n",
    "cv2.imwrite(str(time.time())+'_0_result.jpg',resultOrig)\n",
    "\n",
    "# Resize\n",
    "max_dimension = float(max(result.shape))\n",
    "scale = 900/max_dimension\n",
    "result = cv2.resize(result, None, fx=scale, fy=scale)\n",
    "\n",
    "# Show results\n",
    "cv2.imshow('res',result)\n",
    "\n",
    "cv2.waitKey(0)\n",
    "cv2.destroyAllWindows()"
   ]
  },
  {
   "cell_type": "code",
   "execution_count": null,
   "metadata": {},
   "outputs": [],
   "source": []
  }
 ],
 "metadata": {
  "kernelspec": {
   "display_name": "Python 3",
   "language": "python",
   "name": "python3"
  },
  "language_info": {
   "codemirror_mode": {
    "name": "ipython",
    "version": 3
   },
   "file_extension": ".py",
   "mimetype": "text/x-python",
   "name": "python",
   "nbconvert_exporter": "python",
   "pygments_lexer": "ipython3",
   "version": "3.7.3"
  }
 },
 "nbformat": 4,
 "nbformat_minor": 2
}
