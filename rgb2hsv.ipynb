{
 "cells": [
  {
   "cell_type": "code",
   "execution_count": 5,
   "metadata": {},
   "outputs": [
    {
     "ename": "NameError",
     "evalue": "name 'dtype' is not defined",
     "output_type": "error",
     "traceback": [
      "\u001b[1;31m---------------------------------------------------------------------------\u001b[0m",
      "\u001b[1;31mNameError\u001b[0m                                 Traceback (most recent call last)",
      "\u001b[1;32m<ipython-input-5-6d67d30aba91>\u001b[0m in \u001b[0;36m<module>\u001b[1;34m\u001b[0m\n\u001b[0;32m     18\u001b[0m \u001b[0mimg\u001b[0m \u001b[1;33m=\u001b[0m \u001b[0mdata\u001b[0m\u001b[1;33m.\u001b[0m\u001b[0mastronaut\u001b[0m\u001b[1;33m(\u001b[0m\u001b[1;33m)\u001b[0m\u001b[1;33m\u001b[0m\u001b[1;33m\u001b[0m\u001b[0m\n\u001b[0;32m     19\u001b[0m \u001b[0mimg_hsv\u001b[0m \u001b[1;33m=\u001b[0m \u001b[0mcolor\u001b[0m\u001b[1;33m.\u001b[0m\u001b[0mrgb2hsv\u001b[0m\u001b[1;33m(\u001b[0m\u001b[0mimg\u001b[0m\u001b[1;33m)\u001b[0m\u001b[1;33m\u001b[0m\u001b[1;33m\u001b[0m\u001b[0m\n\u001b[1;32m---> 20\u001b[1;33m \u001b[0marr\u001b[0m \u001b[1;33m=\u001b[0m \u001b[0m_prepare_colorarray\u001b[0m\u001b[1;33m(\u001b[0m\u001b[0mimg\u001b[0m\u001b[1;33m)\u001b[0m\u001b[1;33m\u001b[0m\u001b[1;33m\u001b[0m\u001b[0m\n\u001b[0m\u001b[0;32m     21\u001b[0m \u001b[0mout\u001b[0m \u001b[1;33m=\u001b[0m \u001b[0mnp\u001b[0m\u001b[1;33m.\u001b[0m\u001b[0mempty_like\u001b[0m\u001b[1;33m(\u001b[0m\u001b[0marr\u001b[0m\u001b[1;33m)\u001b[0m\u001b[1;33m\u001b[0m\u001b[1;33m\u001b[0m\u001b[0m\n\u001b[0;32m     22\u001b[0m \u001b[1;33m\u001b[0m\u001b[0m\n",
      "\u001b[1;32m<ipython-input-5-6d67d30aba91>\u001b[0m in \u001b[0;36m_prepare_colorarray\u001b[1;34m(arr)\u001b[0m\n\u001b[0;32m     14\u001b[0m         \u001b[1;32mraise\u001b[0m \u001b[0mValueError\u001b[0m\u001b[1;33m(\u001b[0m\u001b[0mmsg\u001b[0m\u001b[1;33m)\u001b[0m\u001b[1;33m\u001b[0m\u001b[1;33m\u001b[0m\u001b[0m\n\u001b[0;32m     15\u001b[0m \u001b[1;33m\u001b[0m\u001b[0m\n\u001b[1;32m---> 16\u001b[1;33m     \u001b[1;32mreturn\u001b[0m \u001b[0mdtype\u001b[0m\u001b[1;33m.\u001b[0m\u001b[0mimg_as_float\u001b[0m\u001b[1;33m(\u001b[0m\u001b[0marr\u001b[0m\u001b[1;33m)\u001b[0m\u001b[1;33m\u001b[0m\u001b[1;33m\u001b[0m\u001b[0m\n\u001b[0m\u001b[0;32m     17\u001b[0m \u001b[1;33m\u001b[0m\u001b[0m\n\u001b[0;32m     18\u001b[0m \u001b[0mimg\u001b[0m \u001b[1;33m=\u001b[0m \u001b[0mdata\u001b[0m\u001b[1;33m.\u001b[0m\u001b[0mastronaut\u001b[0m\u001b[1;33m(\u001b[0m\u001b[1;33m)\u001b[0m\u001b[1;33m\u001b[0m\u001b[1;33m\u001b[0m\u001b[0m\n",
      "\u001b[1;31mNameError\u001b[0m: name 'dtype' is not defined"
     ]
    }
   ],
   "source": [
    "from skimage import color\n",
    "from skimage import data\n",
    "import numpy as np\n",
    "\n",
    "\n",
    "def _prepare_colorarray(arr):\n",
    "    \"\"\"Check the shape of the array and convert it to\n",
    "    floating point representation.\n",
    "    \"\"\"\n",
    "    arr = np.asanyarray(arr)\n",
    "\n",
    "    if arr.ndim not in [3, 4] or arr.shape[-1] != 3:\n",
    "        msg = (\"the input array must be have a shape == (.., ..,[ ..,] 3)), \" +\"got (\" + (\", \".join(map(str, arr.shape))) + \")\")\n",
    "        raise ValueError(msg)\n",
    "\n",
    "    return dtype.img_as_float(arr)\n",
    "\n",
    "img = data.astronaut()\n",
    "img_hsv = color.rgb2hsv(img)\n",
    "arr = _prepare_colorarray(img)\n",
    "out = np.empty_like(arr)\n",
    "\n",
    "# -- V channel\n",
    "out_v = arr.max(-1)\n",
    "\n",
    "# -- S channel\n",
    "delta = arr.ptp(-1)\n",
    "# Ignore warning for zero divided by zero\n",
    "old_settings = np.seterr(invalid='ignore')\n",
    "out_s = delta / out_v\n",
    "out_s[delta == 0.] = 0.\n",
    "\n",
    "# -- H channel\n",
    "# red is max\n",
    "idx = (arr[:, :, 0] == out_v)\n",
    "out[idx, 0] = (arr[idx, 1] - arr[idx, 2]) / delta[idx]\n",
    "\n",
    "# green is max\n",
    "idx = (arr[:, :, 1] == out_v)\n",
    "out[idx, 0] = 2. + (arr[idx, 2] - arr[idx, 0]) / delta[idx]\n",
    "\n",
    "# blue is max\n",
    "idx = (arr[:, :, 2] == out_v)\n",
    "out[idx, 0] = 4. + (arr[idx, 0] - arr[idx, 1]) / delta[idx]\n",
    "out_h = (out[:, :, 0] / 6.) % 1.\n",
    "out_h[delta == 0.] = 0.\n",
    "\n",
    "np.seterr(**old_settings)\n",
    "\n",
    "# -- output\n",
    "out[:, :, 0] = out_h\n",
    "out[:, :, 1] = out_s\n",
    "out[:, :, 2] = out_v\n",
    "\n",
    "# remove NaN\n",
    "out[np.isnan(out)] = 0\n",
    "\n",
    "#return out"
   ]
  },
  {
   "cell_type": "code",
   "execution_count": null,
   "metadata": {},
   "outputs": [],
   "source": []
  }
 ],
 "metadata": {
  "kernelspec": {
   "display_name": "Python 3",
   "language": "python",
   "name": "python3"
  },
  "language_info": {
   "codemirror_mode": {
    "name": "ipython",
    "version": 3
   },
   "file_extension": ".py",
   "mimetype": "text/x-python",
   "name": "python",
   "nbconvert_exporter": "python",
   "pygments_lexer": "ipython3",
   "version": "3.7.3"
  }
 },
 "nbformat": 4,
 "nbformat_minor": 2
}
