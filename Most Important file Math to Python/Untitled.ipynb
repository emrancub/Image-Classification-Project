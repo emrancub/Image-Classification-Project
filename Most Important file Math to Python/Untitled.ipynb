{
 "cells": [
  {
   "cell_type": "code",
   "execution_count": null,
   "metadata": {},
   "outputs": [],
   "source": [
    "import cv2\n",
    "import numpy as np\n",
    "\n",
    "threshold = 0.2\n",
    "kernel5 = cv2.getStructuringElement(cv2.MORPH_ELLIPSE,(20,20))\n",
    "x_co = 0\n",
    "y_co = 0\n",
    "hsv = None\n",
    "H = 0\n",
    "S = 0\n",
    "V = 0\n",
    "thr_H = 180*threshold\n",
    "thr_S = 255*threshold\n",
    "thr_V = 255*threshold\n",
    "\n",
    "def on_mouse(event,x,y,flag,param):\n",
    "  global x_co,y_co,H,S,V,hsv\n",
    "  if(event==cv2.EVENT_LBUTTONDOWN):\n",
    "    x_co=x\n",
    "    y_co=y\n",
    "    p_sel = hsv[y_co][x_co]\n",
    "    H = p_sel[0]\n",
    "    S = p_sel[1]\n",
    "    V = p_sel[2]\n",
    "\n",
    "\n",
    "cv2.namedWindow(\"camera\", 1)\n",
    "cv2.namedWindow(\"camera2\", 2)\n",
    "cv2.namedWindow(\"camera3\", 3)\n",
    "#cam = video.create_capture(0)\n",
    "cam = cv2.VideoCapture(0)\n",
    "cam.set(cv2.CAP_PROP_FRAME_WIDTH, 640)\n",
    "cam.set(cv2.CAP_PROP_FRAME_HEIGHT, 480)\n",
    "\n",
    "while True:\n",
    "    ret, src = cam.read()\n",
    "    src = cv2.blur(src, (3,3))\n",
    "    hsv = cv2.cvtColor(src, cv2.COLOR_BGR2HSV)\n",
    "    cv2.setMouseCallback(\"camera2\",on_mouse, 0);\n",
    "\n",
    "    min_color = np.array([H-thr_H,S-thr_S,V-thr_V])\n",
    "    max_color = np.array([H+thr_H,S+thr_S,V+thr_V])\n",
    "    mask = cv2.inRange(hsv, min_color, max_color)\n",
    "    mask = cv2.morphologyEx(mask, cv2.MORPH_CLOSE, kernel5)\n",
    "    \n",
    "    #res = cv2.cvtColor(hsv, cv2.COLOR_HSV2BGR)\n",
    "    cv2.putText(mask,\"H:\" + str(H)+\" S:\"+str(S)+\" V:\"+str(V), (10,30), cv2.FONT_HERSHEY_PLAIN, 2.0, (255,255,255), thickness = 1)\n",
    "    cv2.imshow(\"camera\", mask)\n",
    "    cv2.imshow(\"camera2\", src)\n",
    "    src_segmented = cv2.add(src,src,mask=mask)\n",
    "    #cv2.imshow(\"camera3\", src_segmented)\n",
    "    if cv2.waitKey(10) == 27:\n",
    "        break"
   ]
  },
  {
   "cell_type": "code",
   "execution_count": null,
   "metadata": {},
   "outputs": [],
   "source": []
  }
 ],
 "metadata": {
  "kernelspec": {
   "display_name": "Python 3",
   "language": "python",
   "name": "python3"
  },
  "language_info": {
   "codemirror_mode": {
    "name": "ipython",
    "version": 3
   },
   "file_extension": ".py",
   "mimetype": "text/x-python",
   "name": "python",
   "nbconvert_exporter": "python",
   "pygments_lexer": "ipython3",
   "version": "3.7.3"
  }
 },
 "nbformat": 4,
 "nbformat_minor": 2
}
